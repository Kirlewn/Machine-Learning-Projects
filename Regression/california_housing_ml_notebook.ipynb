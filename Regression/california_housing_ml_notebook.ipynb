{
  "nbformat": 4,
  "nbformat_minor": 0,
  "metadata": {
    "colab": {
      "provenance": [],
      "toc_visible": true
    },
    "kernelspec": {
      "name": "python3",
      "display_name": "Python 3"
    },
    "language_info": {
      "name": "python"
    }
  },
  "cells": [
    {
      "cell_type": "markdown",
      "source": [
        "# Purpose\n",
        "The goal of this notebook is to solve a regression problem without changing it into a classification problem. \n",
        "\n",
        "My previous attempt using the red_wine_quality_predictor turned into a binary classification problem. As such, I would like to practice and demonstrate my ability to solve regression problems without turning them into classification problem. "
      ],
      "metadata": {
        "id": "jA_eJrIf2TvW"
      }
    },
    {
      "cell_type": "markdown",
      "source": [
        "# 6 Key steps \n",
        "\n",
        "We will follow and adapt the 6 key steps of Data analysis to this project.\n",
        "\n",
        "6 Key steps: \n",
        "\n",
        "1) Ask \n",
        "- Define what the project would look like \n",
        "- Define what would qualify as successful result\n",
        "\n",
        "2) Prepare \n",
        "- Build a timeline and determine how much time is needed\n",
        "- Determine what data is needed to achieve a successful result\n",
        "\n",
        "3) Process\n",
        "- Collect, store, manage and protect the data.\n",
        "- Processed the data by cleaning it to make sure it was complete, correct, relevant, and free of errors and outliers.\n",
        "\n",
        "4) Analyze\n",
        "- Experiment with different models and hyperparameters to meet criterias of success \n",
        "- Analyze data\n",
        "\n",
        "5) Share / Visualize \n",
        "- Process and visualize data to share / make meaningful deductions from \n",
        "\n",
        "6) Act\n",
        "- Determine how to implement changes and take actions based on the findings"
      ],
      "metadata": {
        "id": "pRTDa0uo2cBx"
      }
    },
    {
      "cell_type": "markdown",
      "source": [
        "# 1) Ask \n",
        "---\n",
        "\n",
        "## Define what the project would look like \n",
        "* The goal of this notebook is to solve a regression problem without changing it into a classification problem \n",
        "* Therefore the goal will be utilizing the features( `longitude`,\t`latitude`,\t`housing_median_age`, `total_rooms`,\t`total_bedrooms`, `population`, `households`, `median_income`) in the `california_housing` dataset, accuracrately predict the `median_house_value`\n",
        "\n",
        "* A possible variation to experiment with is using `longitude`,\t`latitude`,\t`housing_median_age`, `total_rooms`,\t`total_bedrooms`, `population`, `households`,  and `median_house_value` to determine what `median_income` would be needed to live there.\n",
        "\n",
        "\n",
        "\n",
        "## Define what would qualify as a successful result\n",
        "* We will aim for an accuracy of **>95%**"
      ],
      "metadata": {
        "id": "uyG_FtvP2jTq"
      }
    },
    {
      "cell_type": "markdown",
      "source": [
        "# 2) Prepare \n",
        "---\n",
        "## Build a timeline and determine how much time is needed\n",
        "* The estimated timeline will be a working week (5 day) sprint \n",
        "\n",
        "## Determine what data is needed to achieve a successful result\n",
        "* We will be utilzing the sample data from google collab which has been downloaded and added to github : https://github.com/Kirlewn/Machine-Learning-Projects/tree/main/Data/california_housing_data \n",
        "\n",
        "* A description of the dataset can be found on kaggle at : https://www.kaggle.com/datasets/camnugent/california-housing-prices\n"
      ],
      "metadata": {
        "id": "S0c3wfy72rZ3"
      }
    },
    {
      "cell_type": "code",
      "source": [
        "# import standard expected libraries\n",
        "import pandas as pd\n",
        "import numpy as np \n",
        "import tensorflow as tf\n",
        "import sklearn as sk \n",
        "import matplotlib.pyplot as plt\n",
        "import seaborn as sns "
      ],
      "metadata": {
        "id": "W_HQBaf0FHQR"
      },
      "execution_count": 2,
      "outputs": []
    },
    {
      "cell_type": "markdown",
      "source": [
        "# 3) Process\n",
        "---\n"
      ],
      "metadata": {
        "id": "DXu5UwSU2to8"
      }
    },
    {
      "cell_type": "markdown",
      "source": [
        "##  Collect data"
      ],
      "metadata": {
        "id": "lYI-EIgKFouN"
      }
    },
    {
      "cell_type": "code",
      "execution_count": 13,
      "metadata": {
        "colab": {
          "base_uri": "https://localhost:8080/",
          "height": 206
        },
        "id": "92b9NGMDv7rV",
        "outputId": "2daa90aa-980f-4a70-a858-ca433a464afd"
      },
      "outputs": [
        {
          "output_type": "execute_result",
          "data": {
            "text/plain": [
              "   longitude  latitude  housing_median_age  total_rooms  total_bedrooms  \\\n",
              "0    -122.23     37.88                41.0        880.0           129.0   \n",
              "1    -122.22     37.86                21.0       7099.0          1106.0   \n",
              "2    -122.24     37.85                52.0       1467.0           190.0   \n",
              "3    -122.25     37.85                52.0       1274.0           235.0   \n",
              "4    -122.25     37.85                52.0       1627.0           280.0   \n",
              "\n",
              "   population  households  median_income  median_house_value ocean_proximity  \n",
              "0       322.0       126.0         8.3252            452600.0        NEAR BAY  \n",
              "1      2401.0      1138.0         8.3014            358500.0        NEAR BAY  \n",
              "2       496.0       177.0         7.2574            352100.0        NEAR BAY  \n",
              "3       558.0       219.0         5.6431            341300.0        NEAR BAY  \n",
              "4       565.0       259.0         3.8462            342200.0        NEAR BAY  "
            ],
            "text/html": [
              "\n",
              "  <div id=\"df-6ba9f05f-8c84-4f45-acf9-f5877f284567\">\n",
              "    <div class=\"colab-df-container\">\n",
              "      <div>\n",
              "<style scoped>\n",
              "    .dataframe tbody tr th:only-of-type {\n",
              "        vertical-align: middle;\n",
              "    }\n",
              "\n",
              "    .dataframe tbody tr th {\n",
              "        vertical-align: top;\n",
              "    }\n",
              "\n",
              "    .dataframe thead th {\n",
              "        text-align: right;\n",
              "    }\n",
              "</style>\n",
              "<table border=\"1\" class=\"dataframe\">\n",
              "  <thead>\n",
              "    <tr style=\"text-align: right;\">\n",
              "      <th></th>\n",
              "      <th>longitude</th>\n",
              "      <th>latitude</th>\n",
              "      <th>housing_median_age</th>\n",
              "      <th>total_rooms</th>\n",
              "      <th>total_bedrooms</th>\n",
              "      <th>population</th>\n",
              "      <th>households</th>\n",
              "      <th>median_income</th>\n",
              "      <th>median_house_value</th>\n",
              "      <th>ocean_proximity</th>\n",
              "    </tr>\n",
              "  </thead>\n",
              "  <tbody>\n",
              "    <tr>\n",
              "      <th>0</th>\n",
              "      <td>-122.23</td>\n",
              "      <td>37.88</td>\n",
              "      <td>41.0</td>\n",
              "      <td>880.0</td>\n",
              "      <td>129.0</td>\n",
              "      <td>322.0</td>\n",
              "      <td>126.0</td>\n",
              "      <td>8.3252</td>\n",
              "      <td>452600.0</td>\n",
              "      <td>NEAR BAY</td>\n",
              "    </tr>\n",
              "    <tr>\n",
              "      <th>1</th>\n",
              "      <td>-122.22</td>\n",
              "      <td>37.86</td>\n",
              "      <td>21.0</td>\n",
              "      <td>7099.0</td>\n",
              "      <td>1106.0</td>\n",
              "      <td>2401.0</td>\n",
              "      <td>1138.0</td>\n",
              "      <td>8.3014</td>\n",
              "      <td>358500.0</td>\n",
              "      <td>NEAR BAY</td>\n",
              "    </tr>\n",
              "    <tr>\n",
              "      <th>2</th>\n",
              "      <td>-122.24</td>\n",
              "      <td>37.85</td>\n",
              "      <td>52.0</td>\n",
              "      <td>1467.0</td>\n",
              "      <td>190.0</td>\n",
              "      <td>496.0</td>\n",
              "      <td>177.0</td>\n",
              "      <td>7.2574</td>\n",
              "      <td>352100.0</td>\n",
              "      <td>NEAR BAY</td>\n",
              "    </tr>\n",
              "    <tr>\n",
              "      <th>3</th>\n",
              "      <td>-122.25</td>\n",
              "      <td>37.85</td>\n",
              "      <td>52.0</td>\n",
              "      <td>1274.0</td>\n",
              "      <td>235.0</td>\n",
              "      <td>558.0</td>\n",
              "      <td>219.0</td>\n",
              "      <td>5.6431</td>\n",
              "      <td>341300.0</td>\n",
              "      <td>NEAR BAY</td>\n",
              "    </tr>\n",
              "    <tr>\n",
              "      <th>4</th>\n",
              "      <td>-122.25</td>\n",
              "      <td>37.85</td>\n",
              "      <td>52.0</td>\n",
              "      <td>1627.0</td>\n",
              "      <td>280.0</td>\n",
              "      <td>565.0</td>\n",
              "      <td>259.0</td>\n",
              "      <td>3.8462</td>\n",
              "      <td>342200.0</td>\n",
              "      <td>NEAR BAY</td>\n",
              "    </tr>\n",
              "  </tbody>\n",
              "</table>\n",
              "</div>\n",
              "      <button class=\"colab-df-convert\" onclick=\"convertToInteractive('df-6ba9f05f-8c84-4f45-acf9-f5877f284567')\"\n",
              "              title=\"Convert this dataframe to an interactive table.\"\n",
              "              style=\"display:none;\">\n",
              "        \n",
              "  <svg xmlns=\"http://www.w3.org/2000/svg\" height=\"24px\"viewBox=\"0 0 24 24\"\n",
              "       width=\"24px\">\n",
              "    <path d=\"M0 0h24v24H0V0z\" fill=\"none\"/>\n",
              "    <path d=\"M18.56 5.44l.94 2.06.94-2.06 2.06-.94-2.06-.94-.94-2.06-.94 2.06-2.06.94zm-11 1L8.5 8.5l.94-2.06 2.06-.94-2.06-.94L8.5 2.5l-.94 2.06-2.06.94zm10 10l.94 2.06.94-2.06 2.06-.94-2.06-.94-.94-2.06-.94 2.06-2.06.94z\"/><path d=\"M17.41 7.96l-1.37-1.37c-.4-.4-.92-.59-1.43-.59-.52 0-1.04.2-1.43.59L10.3 9.45l-7.72 7.72c-.78.78-.78 2.05 0 2.83L4 21.41c.39.39.9.59 1.41.59.51 0 1.02-.2 1.41-.59l7.78-7.78 2.81-2.81c.8-.78.8-2.07 0-2.86zM5.41 20L4 18.59l7.72-7.72 1.47 1.35L5.41 20z\"/>\n",
              "  </svg>\n",
              "      </button>\n",
              "      \n",
              "  <style>\n",
              "    .colab-df-container {\n",
              "      display:flex;\n",
              "      flex-wrap:wrap;\n",
              "      gap: 12px;\n",
              "    }\n",
              "\n",
              "    .colab-df-convert {\n",
              "      background-color: #E8F0FE;\n",
              "      border: none;\n",
              "      border-radius: 50%;\n",
              "      cursor: pointer;\n",
              "      display: none;\n",
              "      fill: #1967D2;\n",
              "      height: 32px;\n",
              "      padding: 0 0 0 0;\n",
              "      width: 32px;\n",
              "    }\n",
              "\n",
              "    .colab-df-convert:hover {\n",
              "      background-color: #E2EBFA;\n",
              "      box-shadow: 0px 1px 2px rgba(60, 64, 67, 0.3), 0px 1px 3px 1px rgba(60, 64, 67, 0.15);\n",
              "      fill: #174EA6;\n",
              "    }\n",
              "\n",
              "    [theme=dark] .colab-df-convert {\n",
              "      background-color: #3B4455;\n",
              "      fill: #D2E3FC;\n",
              "    }\n",
              "\n",
              "    [theme=dark] .colab-df-convert:hover {\n",
              "      background-color: #434B5C;\n",
              "      box-shadow: 0px 1px 3px 1px rgba(0, 0, 0, 0.15);\n",
              "      filter: drop-shadow(0px 1px 2px rgba(0, 0, 0, 0.3));\n",
              "      fill: #FFFFFF;\n",
              "    }\n",
              "  </style>\n",
              "\n",
              "      <script>\n",
              "        const buttonEl =\n",
              "          document.querySelector('#df-6ba9f05f-8c84-4f45-acf9-f5877f284567 button.colab-df-convert');\n",
              "        buttonEl.style.display =\n",
              "          google.colab.kernel.accessAllowed ? 'block' : 'none';\n",
              "\n",
              "        async function convertToInteractive(key) {\n",
              "          const element = document.querySelector('#df-6ba9f05f-8c84-4f45-acf9-f5877f284567');\n",
              "          const dataTable =\n",
              "            await google.colab.kernel.invokeFunction('convertToInteractive',\n",
              "                                                     [key], {});\n",
              "          if (!dataTable) return;\n",
              "\n",
              "          const docLinkHtml = 'Like what you see? Visit the ' +\n",
              "            '<a target=\"_blank\" href=https://colab.research.google.com/notebooks/data_table.ipynb>data table notebook</a>'\n",
              "            + ' to learn more about interactive tables.';\n",
              "          element.innerHTML = '';\n",
              "          dataTable['output_type'] = 'display_data';\n",
              "          await google.colab.output.renderOutput(dataTable, element);\n",
              "          const docLink = document.createElement('div');\n",
              "          docLink.innerHTML = docLinkHtml;\n",
              "          element.appendChild(docLink);\n",
              "        }\n",
              "      </script>\n",
              "    </div>\n",
              "  </div>\n",
              "  "
            ]
          },
          "metadata": {},
          "execution_count": 13
        }
      ],
      "source": [
        "# the data is already pre-split into train and test so let's begin with importing the train data\n",
        "data = pd.read_csv(\"https://raw.githubusercontent.com/Kirlewn/Machine-Learning-Projects/main/Data/california_housing_data/housing.csv\")\n",
        "\n",
        "data.head()"
      ]
    },
    {
      "cell_type": "markdown",
      "source": [
        "## Data Exploration\n",
        "Determine if there are any unusuable or strange data. \n",
        "This includes outliers, missing values, mismatched data types (an column with ints having a string input), etc. "
      ],
      "metadata": {
        "id": "D_dj2AIS2x-D"
      }
    },
    {
      "cell_type": "code",
      "source": [
        "data.info()"
      ],
      "metadata": {
        "colab": {
          "base_uri": "https://localhost:8080/"
        },
        "id": "Tm6F1DXxQBSx",
        "outputId": "5cdd7c7b-fbbd-4c99-c01f-dec968e7b493"
      },
      "execution_count": 14,
      "outputs": [
        {
          "output_type": "stream",
          "name": "stdout",
          "text": [
            "<class 'pandas.core.frame.DataFrame'>\n",
            "RangeIndex: 20640 entries, 0 to 20639\n",
            "Data columns (total 10 columns):\n",
            " #   Column              Non-Null Count  Dtype  \n",
            "---  ------              --------------  -----  \n",
            " 0   longitude           20640 non-null  float64\n",
            " 1   latitude            20640 non-null  float64\n",
            " 2   housing_median_age  20640 non-null  float64\n",
            " 3   total_rooms         20640 non-null  float64\n",
            " 4   total_bedrooms      20433 non-null  float64\n",
            " 5   population          20640 non-null  float64\n",
            " 6   households          20640 non-null  float64\n",
            " 7   median_income       20640 non-null  float64\n",
            " 8   median_house_value  20640 non-null  float64\n",
            " 9   ocean_proximity     20640 non-null  object \n",
            "dtypes: float64(9), object(1)\n",
            "memory usage: 1.6+ MB\n"
          ]
        }
      ]
    },
    {
      "cell_type": "markdown",
      "source": [
        "From kaggle we get this description of each column: \n",
        "1. **longitude**: A measure of how far west a house is; a higher value is farther west\n",
        "\n",
        "2. **latitude**: A measure of how far north a house is; a higher value is farther north\n",
        "3. **housingMedianAge**: Median age of a house within a block; a lower number is a newer building\n",
        "4. **totalRooms**: Total number of rooms within a block\n",
        "5. **totalBedrooms**: Total number of bedrooms within a block\n",
        "6. **population**: Total number of people residing within a block\n",
        "7. **households**: Total number of households, a group of people residing within a home unit, for a block\n",
        "8. **medianIncome**: Median income for households within a block of houses (measured in tens of thousands of US Dollars)\n",
        "9. **medianHouseValue**: Median house value for households within a block (measured in US Dollars)\n",
        "10. **oceanProximity**: Location of the house w.r.t ocean/sea"
      ],
      "metadata": {
        "id": "XiDnHeM4lJ6J"
      }
    },
    {
      "cell_type": "markdown",
      "source": [
        "As we can see from `data.head()` and `data.info()` we will need to do something about `ocean_proximity` as that feature is of a different data type than the others. \n",
        "\n"
      ],
      "metadata": {
        "id": "sEG7nX37RNu3"
      }
    },
    {
      "cell_type": "code",
      "source": [
        "data.describe()"
      ],
      "metadata": {
        "colab": {
          "base_uri": "https://localhost:8080/",
          "height": 300
        },
        "id": "xCCFFH0E0qcw",
        "outputId": "87e758d9-23a3-4d8f-8480-ca8786f91a44"
      },
      "execution_count": 16,
      "outputs": [
        {
          "output_type": "execute_result",
          "data": {
            "text/plain": [
              "          longitude      latitude  housing_median_age   total_rooms  \\\n",
              "count  20640.000000  20640.000000        20640.000000  20640.000000   \n",
              "mean    -119.569704     35.631861           28.639486   2635.763081   \n",
              "std        2.003532      2.135952           12.585558   2181.615252   \n",
              "min     -124.350000     32.540000            1.000000      2.000000   \n",
              "25%     -121.800000     33.930000           18.000000   1447.750000   \n",
              "50%     -118.490000     34.260000           29.000000   2127.000000   \n",
              "75%     -118.010000     37.710000           37.000000   3148.000000   \n",
              "max     -114.310000     41.950000           52.000000  39320.000000   \n",
              "\n",
              "       total_bedrooms    population    households  median_income  \\\n",
              "count    20433.000000  20640.000000  20640.000000   20640.000000   \n",
              "mean       537.870553   1425.476744    499.539680       3.870671   \n",
              "std        421.385070   1132.462122    382.329753       1.899822   \n",
              "min          1.000000      3.000000      1.000000       0.499900   \n",
              "25%        296.000000    787.000000    280.000000       2.563400   \n",
              "50%        435.000000   1166.000000    409.000000       3.534800   \n",
              "75%        647.000000   1725.000000    605.000000       4.743250   \n",
              "max       6445.000000  35682.000000   6082.000000      15.000100   \n",
              "\n",
              "       median_house_value  \n",
              "count        20640.000000  \n",
              "mean        206855.816909  \n",
              "std         115395.615874  \n",
              "min          14999.000000  \n",
              "25%         119600.000000  \n",
              "50%         179700.000000  \n",
              "75%         264725.000000  \n",
              "max         500001.000000  "
            ],
            "text/html": [
              "\n",
              "  <div id=\"df-a54e78c6-34b9-4bc2-a3c8-c02975d3d292\">\n",
              "    <div class=\"colab-df-container\">\n",
              "      <div>\n",
              "<style scoped>\n",
              "    .dataframe tbody tr th:only-of-type {\n",
              "        vertical-align: middle;\n",
              "    }\n",
              "\n",
              "    .dataframe tbody tr th {\n",
              "        vertical-align: top;\n",
              "    }\n",
              "\n",
              "    .dataframe thead th {\n",
              "        text-align: right;\n",
              "    }\n",
              "</style>\n",
              "<table border=\"1\" class=\"dataframe\">\n",
              "  <thead>\n",
              "    <tr style=\"text-align: right;\">\n",
              "      <th></th>\n",
              "      <th>longitude</th>\n",
              "      <th>latitude</th>\n",
              "      <th>housing_median_age</th>\n",
              "      <th>total_rooms</th>\n",
              "      <th>total_bedrooms</th>\n",
              "      <th>population</th>\n",
              "      <th>households</th>\n",
              "      <th>median_income</th>\n",
              "      <th>median_house_value</th>\n",
              "    </tr>\n",
              "  </thead>\n",
              "  <tbody>\n",
              "    <tr>\n",
              "      <th>count</th>\n",
              "      <td>20640.000000</td>\n",
              "      <td>20640.000000</td>\n",
              "      <td>20640.000000</td>\n",
              "      <td>20640.000000</td>\n",
              "      <td>20433.000000</td>\n",
              "      <td>20640.000000</td>\n",
              "      <td>20640.000000</td>\n",
              "      <td>20640.000000</td>\n",
              "      <td>20640.000000</td>\n",
              "    </tr>\n",
              "    <tr>\n",
              "      <th>mean</th>\n",
              "      <td>-119.569704</td>\n",
              "      <td>35.631861</td>\n",
              "      <td>28.639486</td>\n",
              "      <td>2635.763081</td>\n",
              "      <td>537.870553</td>\n",
              "      <td>1425.476744</td>\n",
              "      <td>499.539680</td>\n",
              "      <td>3.870671</td>\n",
              "      <td>206855.816909</td>\n",
              "    </tr>\n",
              "    <tr>\n",
              "      <th>std</th>\n",
              "      <td>2.003532</td>\n",
              "      <td>2.135952</td>\n",
              "      <td>12.585558</td>\n",
              "      <td>2181.615252</td>\n",
              "      <td>421.385070</td>\n",
              "      <td>1132.462122</td>\n",
              "      <td>382.329753</td>\n",
              "      <td>1.899822</td>\n",
              "      <td>115395.615874</td>\n",
              "    </tr>\n",
              "    <tr>\n",
              "      <th>min</th>\n",
              "      <td>-124.350000</td>\n",
              "      <td>32.540000</td>\n",
              "      <td>1.000000</td>\n",
              "      <td>2.000000</td>\n",
              "      <td>1.000000</td>\n",
              "      <td>3.000000</td>\n",
              "      <td>1.000000</td>\n",
              "      <td>0.499900</td>\n",
              "      <td>14999.000000</td>\n",
              "    </tr>\n",
              "    <tr>\n",
              "      <th>25%</th>\n",
              "      <td>-121.800000</td>\n",
              "      <td>33.930000</td>\n",
              "      <td>18.000000</td>\n",
              "      <td>1447.750000</td>\n",
              "      <td>296.000000</td>\n",
              "      <td>787.000000</td>\n",
              "      <td>280.000000</td>\n",
              "      <td>2.563400</td>\n",
              "      <td>119600.000000</td>\n",
              "    </tr>\n",
              "    <tr>\n",
              "      <th>50%</th>\n",
              "      <td>-118.490000</td>\n",
              "      <td>34.260000</td>\n",
              "      <td>29.000000</td>\n",
              "      <td>2127.000000</td>\n",
              "      <td>435.000000</td>\n",
              "      <td>1166.000000</td>\n",
              "      <td>409.000000</td>\n",
              "      <td>3.534800</td>\n",
              "      <td>179700.000000</td>\n",
              "    </tr>\n",
              "    <tr>\n",
              "      <th>75%</th>\n",
              "      <td>-118.010000</td>\n",
              "      <td>37.710000</td>\n",
              "      <td>37.000000</td>\n",
              "      <td>3148.000000</td>\n",
              "      <td>647.000000</td>\n",
              "      <td>1725.000000</td>\n",
              "      <td>605.000000</td>\n",
              "      <td>4.743250</td>\n",
              "      <td>264725.000000</td>\n",
              "    </tr>\n",
              "    <tr>\n",
              "      <th>max</th>\n",
              "      <td>-114.310000</td>\n",
              "      <td>41.950000</td>\n",
              "      <td>52.000000</td>\n",
              "      <td>39320.000000</td>\n",
              "      <td>6445.000000</td>\n",
              "      <td>35682.000000</td>\n",
              "      <td>6082.000000</td>\n",
              "      <td>15.000100</td>\n",
              "      <td>500001.000000</td>\n",
              "    </tr>\n",
              "  </tbody>\n",
              "</table>\n",
              "</div>\n",
              "      <button class=\"colab-df-convert\" onclick=\"convertToInteractive('df-a54e78c6-34b9-4bc2-a3c8-c02975d3d292')\"\n",
              "              title=\"Convert this dataframe to an interactive table.\"\n",
              "              style=\"display:none;\">\n",
              "        \n",
              "  <svg xmlns=\"http://www.w3.org/2000/svg\" height=\"24px\"viewBox=\"0 0 24 24\"\n",
              "       width=\"24px\">\n",
              "    <path d=\"M0 0h24v24H0V0z\" fill=\"none\"/>\n",
              "    <path d=\"M18.56 5.44l.94 2.06.94-2.06 2.06-.94-2.06-.94-.94-2.06-.94 2.06-2.06.94zm-11 1L8.5 8.5l.94-2.06 2.06-.94-2.06-.94L8.5 2.5l-.94 2.06-2.06.94zm10 10l.94 2.06.94-2.06 2.06-.94-2.06-.94-.94-2.06-.94 2.06-2.06.94z\"/><path d=\"M17.41 7.96l-1.37-1.37c-.4-.4-.92-.59-1.43-.59-.52 0-1.04.2-1.43.59L10.3 9.45l-7.72 7.72c-.78.78-.78 2.05 0 2.83L4 21.41c.39.39.9.59 1.41.59.51 0 1.02-.2 1.41-.59l7.78-7.78 2.81-2.81c.8-.78.8-2.07 0-2.86zM5.41 20L4 18.59l7.72-7.72 1.47 1.35L5.41 20z\"/>\n",
              "  </svg>\n",
              "      </button>\n",
              "      \n",
              "  <style>\n",
              "    .colab-df-container {\n",
              "      display:flex;\n",
              "      flex-wrap:wrap;\n",
              "      gap: 12px;\n",
              "    }\n",
              "\n",
              "    .colab-df-convert {\n",
              "      background-color: #E8F0FE;\n",
              "      border: none;\n",
              "      border-radius: 50%;\n",
              "      cursor: pointer;\n",
              "      display: none;\n",
              "      fill: #1967D2;\n",
              "      height: 32px;\n",
              "      padding: 0 0 0 0;\n",
              "      width: 32px;\n",
              "    }\n",
              "\n",
              "    .colab-df-convert:hover {\n",
              "      background-color: #E2EBFA;\n",
              "      box-shadow: 0px 1px 2px rgba(60, 64, 67, 0.3), 0px 1px 3px 1px rgba(60, 64, 67, 0.15);\n",
              "      fill: #174EA6;\n",
              "    }\n",
              "\n",
              "    [theme=dark] .colab-df-convert {\n",
              "      background-color: #3B4455;\n",
              "      fill: #D2E3FC;\n",
              "    }\n",
              "\n",
              "    [theme=dark] .colab-df-convert:hover {\n",
              "      background-color: #434B5C;\n",
              "      box-shadow: 0px 1px 3px 1px rgba(0, 0, 0, 0.15);\n",
              "      filter: drop-shadow(0px 1px 2px rgba(0, 0, 0, 0.3));\n",
              "      fill: #FFFFFF;\n",
              "    }\n",
              "  </style>\n",
              "\n",
              "      <script>\n",
              "        const buttonEl =\n",
              "          document.querySelector('#df-a54e78c6-34b9-4bc2-a3c8-c02975d3d292 button.colab-df-convert');\n",
              "        buttonEl.style.display =\n",
              "          google.colab.kernel.accessAllowed ? 'block' : 'none';\n",
              "\n",
              "        async function convertToInteractive(key) {\n",
              "          const element = document.querySelector('#df-a54e78c6-34b9-4bc2-a3c8-c02975d3d292');\n",
              "          const dataTable =\n",
              "            await google.colab.kernel.invokeFunction('convertToInteractive',\n",
              "                                                     [key], {});\n",
              "          if (!dataTable) return;\n",
              "\n",
              "          const docLinkHtml = 'Like what you see? Visit the ' +\n",
              "            '<a target=\"_blank\" href=https://colab.research.google.com/notebooks/data_table.ipynb>data table notebook</a>'\n",
              "            + ' to learn more about interactive tables.';\n",
              "          element.innerHTML = '';\n",
              "          dataTable['output_type'] = 'display_data';\n",
              "          await google.colab.output.renderOutput(dataTable, element);\n",
              "          const docLink = document.createElement('div');\n",
              "          docLink.innerHTML = docLinkHtml;\n",
              "          element.appendChild(docLink);\n",
              "        }\n",
              "      </script>\n",
              "    </div>\n",
              "  </div>\n",
              "  "
            ]
          },
          "metadata": {},
          "execution_count": 16
        }
      ]
    },
    {
      "cell_type": "markdown",
      "source": [
        "It appears we may have missing data as the count for the columns are not consistent across all columns. Namely, the `total_bedrooms` column seems to be less than the rest"
      ],
      "metadata": {
        "id": "j3F2HIbSljcV"
      }
    },
    {
      "cell_type": "code",
      "source": [
        "data[data.isnull().any(axis=1)] # any missing data in columns"
      ],
      "metadata": {
        "colab": {
          "base_uri": "https://localhost:8080/",
          "height": 424
        },
        "id": "-zXSh_E-mJSr",
        "outputId": "5a6e57df-ae83-4372-82e2-7c31c355cc94"
      },
      "execution_count": 60,
      "outputs": [
        {
          "output_type": "execute_result",
          "data": {
            "text/plain": [
              "       longitude  latitude  housing_median_age  total_rooms  total_bedrooms  \\\n",
              "290      -122.16     37.77                47.0       1256.0             NaN   \n",
              "341      -122.17     37.75                38.0        992.0             NaN   \n",
              "538      -122.28     37.78                29.0       5154.0             NaN   \n",
              "563      -122.24     37.75                45.0        891.0             NaN   \n",
              "696      -122.10     37.69                41.0        746.0             NaN   \n",
              "...          ...       ...                 ...          ...             ...   \n",
              "20267    -119.19     34.20                18.0       3620.0             NaN   \n",
              "20268    -119.18     34.19                19.0       2393.0             NaN   \n",
              "20372    -118.88     34.17                15.0       4260.0             NaN   \n",
              "20460    -118.75     34.29                17.0       5512.0             NaN   \n",
              "20484    -118.72     34.28                17.0       3051.0             NaN   \n",
              "\n",
              "       population  households  median_income  median_house_value  \\\n",
              "290         570.0       218.0         4.3750            161900.0   \n",
              "341         732.0       259.0         1.6196             85100.0   \n",
              "538        3741.0      1273.0         2.5762            173400.0   \n",
              "563         384.0       146.0         4.9489            247100.0   \n",
              "696         387.0       161.0         3.9063            178400.0   \n",
              "...           ...         ...            ...                 ...   \n",
              "20267      3171.0       779.0         3.3409            220500.0   \n",
              "20268      1938.0       762.0         1.6953            167400.0   \n",
              "20372      1701.0       669.0         5.1033            410700.0   \n",
              "20460      2734.0       814.0         6.6073            258100.0   \n",
              "20484      1705.0       495.0         5.7376            218600.0   \n",
              "\n",
              "      ocean_proximity  \n",
              "290          NEAR BAY  \n",
              "341          NEAR BAY  \n",
              "538          NEAR BAY  \n",
              "563          NEAR BAY  \n",
              "696          NEAR BAY  \n",
              "...               ...  \n",
              "20267      NEAR OCEAN  \n",
              "20268      NEAR OCEAN  \n",
              "20372       <1H OCEAN  \n",
              "20460       <1H OCEAN  \n",
              "20484       <1H OCEAN  \n",
              "\n",
              "[207 rows x 10 columns]"
            ],
            "text/html": [
              "\n",
              "  <div id=\"df-07741318-6156-4682-ade7-12880400d952\">\n",
              "    <div class=\"colab-df-container\">\n",
              "      <div>\n",
              "<style scoped>\n",
              "    .dataframe tbody tr th:only-of-type {\n",
              "        vertical-align: middle;\n",
              "    }\n",
              "\n",
              "    .dataframe tbody tr th {\n",
              "        vertical-align: top;\n",
              "    }\n",
              "\n",
              "    .dataframe thead th {\n",
              "        text-align: right;\n",
              "    }\n",
              "</style>\n",
              "<table border=\"1\" class=\"dataframe\">\n",
              "  <thead>\n",
              "    <tr style=\"text-align: right;\">\n",
              "      <th></th>\n",
              "      <th>longitude</th>\n",
              "      <th>latitude</th>\n",
              "      <th>housing_median_age</th>\n",
              "      <th>total_rooms</th>\n",
              "      <th>total_bedrooms</th>\n",
              "      <th>population</th>\n",
              "      <th>households</th>\n",
              "      <th>median_income</th>\n",
              "      <th>median_house_value</th>\n",
              "      <th>ocean_proximity</th>\n",
              "    </tr>\n",
              "  </thead>\n",
              "  <tbody>\n",
              "    <tr>\n",
              "      <th>290</th>\n",
              "      <td>-122.16</td>\n",
              "      <td>37.77</td>\n",
              "      <td>47.0</td>\n",
              "      <td>1256.0</td>\n",
              "      <td>NaN</td>\n",
              "      <td>570.0</td>\n",
              "      <td>218.0</td>\n",
              "      <td>4.3750</td>\n",
              "      <td>161900.0</td>\n",
              "      <td>NEAR BAY</td>\n",
              "    </tr>\n",
              "    <tr>\n",
              "      <th>341</th>\n",
              "      <td>-122.17</td>\n",
              "      <td>37.75</td>\n",
              "      <td>38.0</td>\n",
              "      <td>992.0</td>\n",
              "      <td>NaN</td>\n",
              "      <td>732.0</td>\n",
              "      <td>259.0</td>\n",
              "      <td>1.6196</td>\n",
              "      <td>85100.0</td>\n",
              "      <td>NEAR BAY</td>\n",
              "    </tr>\n",
              "    <tr>\n",
              "      <th>538</th>\n",
              "      <td>-122.28</td>\n",
              "      <td>37.78</td>\n",
              "      <td>29.0</td>\n",
              "      <td>5154.0</td>\n",
              "      <td>NaN</td>\n",
              "      <td>3741.0</td>\n",
              "      <td>1273.0</td>\n",
              "      <td>2.5762</td>\n",
              "      <td>173400.0</td>\n",
              "      <td>NEAR BAY</td>\n",
              "    </tr>\n",
              "    <tr>\n",
              "      <th>563</th>\n",
              "      <td>-122.24</td>\n",
              "      <td>37.75</td>\n",
              "      <td>45.0</td>\n",
              "      <td>891.0</td>\n",
              "      <td>NaN</td>\n",
              "      <td>384.0</td>\n",
              "      <td>146.0</td>\n",
              "      <td>4.9489</td>\n",
              "      <td>247100.0</td>\n",
              "      <td>NEAR BAY</td>\n",
              "    </tr>\n",
              "    <tr>\n",
              "      <th>696</th>\n",
              "      <td>-122.10</td>\n",
              "      <td>37.69</td>\n",
              "      <td>41.0</td>\n",
              "      <td>746.0</td>\n",
              "      <td>NaN</td>\n",
              "      <td>387.0</td>\n",
              "      <td>161.0</td>\n",
              "      <td>3.9063</td>\n",
              "      <td>178400.0</td>\n",
              "      <td>NEAR BAY</td>\n",
              "    </tr>\n",
              "    <tr>\n",
              "      <th>...</th>\n",
              "      <td>...</td>\n",
              "      <td>...</td>\n",
              "      <td>...</td>\n",
              "      <td>...</td>\n",
              "      <td>...</td>\n",
              "      <td>...</td>\n",
              "      <td>...</td>\n",
              "      <td>...</td>\n",
              "      <td>...</td>\n",
              "      <td>...</td>\n",
              "    </tr>\n",
              "    <tr>\n",
              "      <th>20267</th>\n",
              "      <td>-119.19</td>\n",
              "      <td>34.20</td>\n",
              "      <td>18.0</td>\n",
              "      <td>3620.0</td>\n",
              "      <td>NaN</td>\n",
              "      <td>3171.0</td>\n",
              "      <td>779.0</td>\n",
              "      <td>3.3409</td>\n",
              "      <td>220500.0</td>\n",
              "      <td>NEAR OCEAN</td>\n",
              "    </tr>\n",
              "    <tr>\n",
              "      <th>20268</th>\n",
              "      <td>-119.18</td>\n",
              "      <td>34.19</td>\n",
              "      <td>19.0</td>\n",
              "      <td>2393.0</td>\n",
              "      <td>NaN</td>\n",
              "      <td>1938.0</td>\n",
              "      <td>762.0</td>\n",
              "      <td>1.6953</td>\n",
              "      <td>167400.0</td>\n",
              "      <td>NEAR OCEAN</td>\n",
              "    </tr>\n",
              "    <tr>\n",
              "      <th>20372</th>\n",
              "      <td>-118.88</td>\n",
              "      <td>34.17</td>\n",
              "      <td>15.0</td>\n",
              "      <td>4260.0</td>\n",
              "      <td>NaN</td>\n",
              "      <td>1701.0</td>\n",
              "      <td>669.0</td>\n",
              "      <td>5.1033</td>\n",
              "      <td>410700.0</td>\n",
              "      <td>&lt;1H OCEAN</td>\n",
              "    </tr>\n",
              "    <tr>\n",
              "      <th>20460</th>\n",
              "      <td>-118.75</td>\n",
              "      <td>34.29</td>\n",
              "      <td>17.0</td>\n",
              "      <td>5512.0</td>\n",
              "      <td>NaN</td>\n",
              "      <td>2734.0</td>\n",
              "      <td>814.0</td>\n",
              "      <td>6.6073</td>\n",
              "      <td>258100.0</td>\n",
              "      <td>&lt;1H OCEAN</td>\n",
              "    </tr>\n",
              "    <tr>\n",
              "      <th>20484</th>\n",
              "      <td>-118.72</td>\n",
              "      <td>34.28</td>\n",
              "      <td>17.0</td>\n",
              "      <td>3051.0</td>\n",
              "      <td>NaN</td>\n",
              "      <td>1705.0</td>\n",
              "      <td>495.0</td>\n",
              "      <td>5.7376</td>\n",
              "      <td>218600.0</td>\n",
              "      <td>&lt;1H OCEAN</td>\n",
              "    </tr>\n",
              "  </tbody>\n",
              "</table>\n",
              "<p>207 rows × 10 columns</p>\n",
              "</div>\n",
              "      <button class=\"colab-df-convert\" onclick=\"convertToInteractive('df-07741318-6156-4682-ade7-12880400d952')\"\n",
              "              title=\"Convert this dataframe to an interactive table.\"\n",
              "              style=\"display:none;\">\n",
              "        \n",
              "  <svg xmlns=\"http://www.w3.org/2000/svg\" height=\"24px\"viewBox=\"0 0 24 24\"\n",
              "       width=\"24px\">\n",
              "    <path d=\"M0 0h24v24H0V0z\" fill=\"none\"/>\n",
              "    <path d=\"M18.56 5.44l.94 2.06.94-2.06 2.06-.94-2.06-.94-.94-2.06-.94 2.06-2.06.94zm-11 1L8.5 8.5l.94-2.06 2.06-.94-2.06-.94L8.5 2.5l-.94 2.06-2.06.94zm10 10l.94 2.06.94-2.06 2.06-.94-2.06-.94-.94-2.06-.94 2.06-2.06.94z\"/><path d=\"M17.41 7.96l-1.37-1.37c-.4-.4-.92-.59-1.43-.59-.52 0-1.04.2-1.43.59L10.3 9.45l-7.72 7.72c-.78.78-.78 2.05 0 2.83L4 21.41c.39.39.9.59 1.41.59.51 0 1.02-.2 1.41-.59l7.78-7.78 2.81-2.81c.8-.78.8-2.07 0-2.86zM5.41 20L4 18.59l7.72-7.72 1.47 1.35L5.41 20z\"/>\n",
              "  </svg>\n",
              "      </button>\n",
              "      \n",
              "  <style>\n",
              "    .colab-df-container {\n",
              "      display:flex;\n",
              "      flex-wrap:wrap;\n",
              "      gap: 12px;\n",
              "    }\n",
              "\n",
              "    .colab-df-convert {\n",
              "      background-color: #E8F0FE;\n",
              "      border: none;\n",
              "      border-radius: 50%;\n",
              "      cursor: pointer;\n",
              "      display: none;\n",
              "      fill: #1967D2;\n",
              "      height: 32px;\n",
              "      padding: 0 0 0 0;\n",
              "      width: 32px;\n",
              "    }\n",
              "\n",
              "    .colab-df-convert:hover {\n",
              "      background-color: #E2EBFA;\n",
              "      box-shadow: 0px 1px 2px rgba(60, 64, 67, 0.3), 0px 1px 3px 1px rgba(60, 64, 67, 0.15);\n",
              "      fill: #174EA6;\n",
              "    }\n",
              "\n",
              "    [theme=dark] .colab-df-convert {\n",
              "      background-color: #3B4455;\n",
              "      fill: #D2E3FC;\n",
              "    }\n",
              "\n",
              "    [theme=dark] .colab-df-convert:hover {\n",
              "      background-color: #434B5C;\n",
              "      box-shadow: 0px 1px 3px 1px rgba(0, 0, 0, 0.15);\n",
              "      filter: drop-shadow(0px 1px 2px rgba(0, 0, 0, 0.3));\n",
              "      fill: #FFFFFF;\n",
              "    }\n",
              "  </style>\n",
              "\n",
              "      <script>\n",
              "        const buttonEl =\n",
              "          document.querySelector('#df-07741318-6156-4682-ade7-12880400d952 button.colab-df-convert');\n",
              "        buttonEl.style.display =\n",
              "          google.colab.kernel.accessAllowed ? 'block' : 'none';\n",
              "\n",
              "        async function convertToInteractive(key) {\n",
              "          const element = document.querySelector('#df-07741318-6156-4682-ade7-12880400d952');\n",
              "          const dataTable =\n",
              "            await google.colab.kernel.invokeFunction('convertToInteractive',\n",
              "                                                     [key], {});\n",
              "          if (!dataTable) return;\n",
              "\n",
              "          const docLinkHtml = 'Like what you see? Visit the ' +\n",
              "            '<a target=\"_blank\" href=https://colab.research.google.com/notebooks/data_table.ipynb>data table notebook</a>'\n",
              "            + ' to learn more about interactive tables.';\n",
              "          element.innerHTML = '';\n",
              "          dataTable['output_type'] = 'display_data';\n",
              "          await google.colab.output.renderOutput(dataTable, element);\n",
              "          const docLink = document.createElement('div');\n",
              "          docLink.innerHTML = docLinkHtml;\n",
              "          element.appendChild(docLink);\n",
              "        }\n",
              "      </script>\n",
              "    </div>\n",
              "  </div>\n",
              "  "
            ]
          },
          "metadata": {},
          "execution_count": 60
        }
      ]
    },
    {
      "cell_type": "markdown",
      "source": [
        "Now that we know `total_bedrooms` is missing some entries we can either fill the entries (we could use averages or we could train a predictor and use those predictions as the missing values) or we could drop the missing rows. \n",
        "\n",
        "Since the other columns in the missing data rows appear valid, let's fill the missing values."
      ],
      "metadata": {
        "id": "sz2OLQvZoKZg"
      }
    },
    {
      "cell_type": "markdown",
      "source": [
        "From what we can see from the `data.describe()` many of the columns have high standard deviation. we will need to address those before splitting into train test"
      ],
      "metadata": {
        "id": "v3KTinakRfiB"
      }
    },
    {
      "cell_type": "markdown",
      "source": [
        "### Data Visualization \n",
        "Let's plot some of our columns to familiarize ourself with the data"
      ],
      "metadata": {
        "id": "rZnwfzu1SsOe"
      }
    },
    {
      "cell_type": "code",
      "source": [
        "data.hist(bins=60, figsize=(20,16));plt.show();"
      ],
      "metadata": {
        "colab": {
          "base_uri": "https://localhost:8080/",
          "height": 934
        },
        "id": "ELOoTKuwpFSS",
        "outputId": "755c56b2-4285-45fa-d277-4598685747d1"
      },
      "execution_count": 66,
      "outputs": [
        {
          "output_type": "display_data",
          "data": {
            "text/plain": [
              "<Figure size 1440x1152 with 9 Axes>"
            ],
            "image/png": "[encoded data removed]"
          },
          "metadata": {
            "needs_background": "light"
          }
        }
      ]
    },
    {
      "cell_type": "markdown",
      "source": [
        "Most of the data seems to have fairly normal distributions, but lets take a close look at `median_house_age` as it has an unusual spike near it maximum value that appears to correlate to the `median_house_value`.\n",
        "\n",
        "Many of the features also appear to have significant outliers."
      ],
      "metadata": {
        "id": "yr2Xhh24pls4"
      }
    },
    {
      "cell_type": "code",
      "source": [
        "# Let's visualize housing_median_age vs median_house_value\n",
        "fig = plt.figure(figsize = (20,12))\n",
        "sns.barplot(x = 'housing_median_age', y = 'median_house_value', data = data);\n",
        "plt.xticks(rotation = 45);"
      ],
      "metadata": {
        "colab": {
          "base_uri": "https://localhost:8080/",
          "height": 728
        },
        "id": "m1_sKzWCStQq",
        "outputId": "b7f35ccf-1c0a-472f-de6f-f1ccf619c82d"
      },
      "execution_count": 28,
      "outputs": [
        {
          "output_type": "display_data",
          "data": {
            "text/plain": [
              "<Figure size 1440x864 with 1 Axes>"
            ],
            "image/png": "[encoded data removed]"
          },
          "metadata": {
            "needs_background": "light"
          }
        }
      ]
    },
    {
      "cell_type": "markdown",
      "source": [
        "It appears newer homes and much older homes are valued the highest. "
      ],
      "metadata": {
        "id": "LkzqfoSEdjIK"
      }
    },
    {
      "cell_type": "code",
      "source": [
        "# let's visualize any outliers\n",
        "fig = plt.figure(figsize = (10,6))\n",
        "sns.boxplot(x = 'housing_median_age', data = data);\n",
        "plt.xticks(rotation = 45);"
      ],
      "metadata": {
        "colab": {
          "base_uri": "https://localhost:8080/",
          "height": 395
        },
        "id": "rM_J1AFGkLcp",
        "outputId": "ab928ff8-5d75-4c86-8461-e49bca1faf69"
      },
      "execution_count": 31,
      "outputs": [
        {
          "output_type": "display_data",
          "data": {
            "text/plain": [
              "<Figure size 720x432 with 1 Axes>"
            ],
            "image/png": "[encoded data removed]"
          },
          "metadata": {
            "needs_background": "light"
          }
        }
      ]
    },
    {
      "cell_type": "code",
      "source": [
        "# let's visualize any outliers\n",
        "fig = plt.figure(figsize = (10,6))\n",
        "sns.boxplot(x = 'total_rooms', data = data);\n",
        "plt.xticks(rotation = 45);"
      ],
      "metadata": {
        "colab": {
          "base_uri": "https://localhost:8080/",
          "height": 408
        },
        "id": "jwCn-0IgkqUV",
        "outputId": "cd41003e-c428-4add-e072-15e94c31fe42"
      },
      "execution_count": 34,
      "outputs": [
        {
          "output_type": "display_data",
          "data": {
            "text/plain": [
              "<Figure size 720x432 with 1 Axes>"
            ],
            "image/png": "[encoded data removed]"
          },
          "metadata": {
            "needs_background": "light"
          }
        }
      ]
    },
    {
      "cell_type": "code",
      "source": [
        "# let's visualize any outliers\n",
        "fig = plt.figure(figsize = (10,6))\n",
        "sns.boxplot(x = 'total_bedrooms', data = data);\n",
        "plt.xticks(rotation = 45);"
      ],
      "metadata": {
        "colab": {
          "base_uri": "https://localhost:8080/",
          "height": 404
        },
        "id": "HGxWBiUUk2cj",
        "outputId": "da1a2594-54f5-47df-d1a7-2daa26e31a2c"
      },
      "execution_count": 36,
      "outputs": [
        {
          "output_type": "display_data",
          "data": {
            "text/plain": [
              "<Figure size 720x432 with 1 Axes>"
            ],
            "image/png": "[encoded data removed]"
          },
          "metadata": {
            "needs_background": "light"
          }
        }
      ]
    },
    {
      "cell_type": "code",
      "source": [
        "# let's visualize any outliers\n",
        "fig = plt.figure(figsize = (10,6))\n",
        "sns.boxplot(x = 'population', data = data);\n",
        "plt.xticks(rotation = 45);"
      ],
      "metadata": {
        "colab": {
          "base_uri": "https://localhost:8080/",
          "height": 407
        },
        "id": "LcX4OBN5k60X",
        "outputId": "31a8f6d0-2f74-4504-9f35-c58f532ab8ed"
      },
      "execution_count": 69,
      "outputs": [
        {
          "output_type": "display_data",
          "data": {
            "text/plain": [
              "<Figure size 720x432 with 1 Axes>"
            ],
            "image/png": "[encoded data removed]"
          },
          "metadata": {
            "needs_background": "light"
          }
        }
      ]
    },
    {
      "cell_type": "code",
      "source": [
        "# let's visualize any outliers\n",
        "fig = plt.figure(figsize = (10,6))\n",
        "sns.boxplot(x = 'households', data = data);\n",
        "plt.xticks(rotation = 45);"
      ],
      "metadata": {
        "colab": {
          "base_uri": "https://localhost:8080/",
          "height": 403
        },
        "id": "jRzt5XUWqYNA",
        "outputId": "c6dd92b7-c78e-4049-b1c6-3a9726462699"
      },
      "execution_count": 68,
      "outputs": [
        {
          "output_type": "display_data",
          "data": {
            "text/plain": [
              "<Figure size 720x432 with 1 Axes>"
            ],
            "image/png": "[encoded data removed]"
          },
          "metadata": {
            "needs_background": "light"
          }
        }
      ]
    },
    {
      "cell_type": "code",
      "source": [
        "# let's visualize any outliers\n",
        "fig = plt.figure(figsize = (10,6))\n",
        "sns.boxplot(x = 'median_income', data = data);\n",
        "plt.xticks(rotation = 45);"
      ],
      "metadata": {
        "colab": {
          "base_uri": "https://localhost:8080/",
          "height": 395
        },
        "id": "OSi8r7uMqc_9",
        "outputId": "73f77ae6-79ab-4521-805f-449fe3713793"
      },
      "execution_count": 70,
      "outputs": [
        {
          "output_type": "display_data",
          "data": {
            "text/plain": [
              "<Figure size 720x432 with 1 Axes>"
            ],
            "image/png": "[encoded data removed]"
          },
          "metadata": {
            "needs_background": "light"
          }
        }
      ]
    },
    {
      "cell_type": "markdown",
      "source": [
        "Let's also take a look at our object data type feature `ocean_proximity`"
      ],
      "metadata": {
        "id": "JhknjTwAqnUV"
      }
    },
    {
      "cell_type": "code",
      "source": [
        "data.ocean_proximity.unique()"
      ],
      "metadata": {
        "colab": {
          "base_uri": "https://localhost:8080/"
        },
        "id": "TZAbkMlAqvXj",
        "outputId": "b23b5f7a-16ac-40bc-c8a1-f456290d623d"
      },
      "execution_count": 73,
      "outputs": [
        {
          "output_type": "execute_result",
          "data": {
            "text/plain": [
              "array(['NEAR BAY', '<1H OCEAN', 'INLAND', 'NEAR OCEAN', 'ISLAND'],\n",
              "      dtype=object)"
            ]
          },
          "metadata": {},
          "execution_count": 73
        }
      ]
    },
    {
      "cell_type": "code",
      "source": [
        "# let's visualize any outliers\n",
        "fig = plt.figure(figsize = (10,6))\n",
        "sns.barplot(x = 'ocean_proximity', y = data.median_house_value ,data = data);\n",
        "plt.xticks(rotation = 45);"
      ],
      "metadata": {
        "colab": {
          "base_uri": "https://localhost:8080/",
          "height": 433
        },
        "id": "O4-yjB1lq2nc",
        "outputId": "51f81987-61aa-4450-fbc5-29bfa4e29f7c"
      },
      "execution_count": 74,
      "outputs": [
        {
          "output_type": "display_data",
          "data": {
            "text/plain": [
              "<Figure size 720x432 with 1 Axes>"
            ],
            "image/png": "[encoded data removed]"
          },
          "metadata": {
            "needs_background": "light"
          }
        }
      ]
    },
    {
      "cell_type": "markdown",
      "source": [
        "## Preprocess\n",
        "\n",
        "Processed the data by cleaning it to make sure it was complete, correct, relevant, and free of errors and outliers.\n",
        "\n",
        "Seems we have our work cut out for us. \n",
        "Let's create a list of tasks / problems we will need to solve. \n",
        "\n",
        "1. `total_bedrooms` has missing data that needs to be filled \n",
        "2. `housing_median_age`, `total_rooms`,\t`total_bedrooms`, `population`,  and `households` have very high std, we will need to normalize our data\n",
        "3. `ocean_proximity` is an object datatype which we will need to either *one_hot_encode* ,  *label_encode*   or manipulate in such a way that it can be utilized in our data "
      ],
      "metadata": {
        "id": "9Gdf_EnK21jb"
      }
    },
    {
      "cell_type": "code",
      "source": [],
      "metadata": {
        "id": "BKmUuY8b210g"
      },
      "execution_count": 4,
      "outputs": []
    },
    {
      "cell_type": "markdown",
      "source": [
        "# 4) Analyze\n",
        "---\n",
        "\n",
        "Experiment with different models and hyperparameters to meet criterias of success. \n",
        "\n",
        "Outlier Experiments\n",
        "\n",
        "Model Experiments\n",
        "\n",
        "\n",
        "\n",
        "Analyze data"
      ],
      "metadata": {
        "id": "8k47DStF26hD"
      }
    },
    {
      "cell_type": "code",
      "source": [],
      "metadata": {
        "id": "xgFxClfi29ho"
      },
      "execution_count": 4,
      "outputs": []
    }
  ]
}