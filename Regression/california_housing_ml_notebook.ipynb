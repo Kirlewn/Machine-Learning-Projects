{
  "nbformat": 4,
  "nbformat_minor": 0,
  "metadata": {
    "colab": {
      "provenance": [],
      "toc_visible": true
    },
    "kernelspec": {
      "name": "python3",
      "display_name": "Python 3"
    },
    "language_info": {
      "name": "python"
    }
  },
  "cells": [
    {
      "cell_type": "markdown",
      "source": [
        "# Purpose\n",
        "The goal of this notebook is to solve a regression problem without changing it into a classification problem. \n",
        "\n",
        "My previous attempt using the red_wine_quality_predictor turned into a binary classification problem. As such, I would like to practice and demonstrate my ability to solve regression problems without turning them into classification problem. "
      ],
      "metadata": {
        "id": "jA_eJrIf2TvW"
      }
    },
    {
      "cell_type": "markdown",
      "source": [
        "# 6 Key steps \n",
        "\n",
        "We will follow and adapt the 6 key steps of Data analysis to this project.\n",
        "\n",
        "6 Key steps: \n",
        "\n",
        "1) Ask \n",
        "- Define what the project would look like \n",
        "- Define what would qualify as successful result\n",
        "\n",
        "2) Prepare \n",
        "- Build a timeline and determine how much time is needed\n",
        "- Determine what data is needed to achieve a successful result\n",
        "\n",
        "3) Process\n",
        "- Collect, store, manage and protect the data.\n",
        "- Processed the data by cleaning it to make sure it was complete, correct, relevant, and free of errors and outliers.\n",
        "\n",
        "4) Analyze\n",
        "- Experiment with different models and hyperparameters to meet criterias of success \n",
        "- Analyze data\n",
        "\n",
        "5) Share / Visualize \n",
        "- Process and visualize data to share / make meaningful deductions from \n",
        "\n",
        "6) Act\n",
        "- Determine how to implement changes and take actions based on the findings"
      ],
      "metadata": {
        "id": "pRTDa0uo2cBx"
      }
    },
    {
      "cell_type": "markdown",
      "source": [
        "# 1) Ask \n",
        "---\n",
        "\n",
        "## Define what the project would look like \n",
        "* The goal of this notebook is to solve a regression problem without changing it into a classification problem \n",
        "* Therefore the goal will be utilizing the features( `longitude`,\t`latitude`,\t`housing_median_age`, `total_rooms`,\t`total_bedrooms`, `population`, `households`, `median_income`) in the `california_housing` dataset, accuracrately predict the `median_house_value`\n",
        "\n",
        "* A possible variation to experiment with is using `longitude`,\t`latitude`,\t`housing_median_age`, `total_rooms`,\t`total_bedrooms`, `population`, `households`,  and `median_house_value` to determine what `median_income` would be needed to live there.\n",
        "\n",
        "\n",
        "\n",
        "## Define what would qualify as a successful result\n",
        "* We will aim for an accuracy of **>95%**"
      ],
      "metadata": {
        "id": "uyG_FtvP2jTq"
      }
    },
    {
      "cell_type": "markdown",
      "source": [
        "# 2) Prepare \n",
        "---\n",
        "## Build a timeline and determine how much time is needed\n",
        "* The estimated timeline will be a working week (5 day) sprint \n",
        "\n",
        "## Determine what data is needed to achieve a successful result\n",
        "* We will be utilzing the sample data from google collab which has been downloaded and added to github : https://github.com/Kirlewn/Machine-Learning-Projects/tree/main/Data/california_housing_data \n"
      ],
      "metadata": {
        "id": "S0c3wfy72rZ3"
      }
    },
    {
      "cell_type": "code",
      "source": [
        "# import standard expected libraries\n",
        "import pandas as pd\n",
        "import numpy as np \n",
        "import tensorflow as tf\n",
        "import sklearn as sk \n",
        "import matplotlib.pyplot as plt\n",
        "import seaborn as sns "
      ],
      "metadata": {
        "id": "W_HQBaf0FHQR"
      },
      "execution_count": null,
      "outputs": []
    },
    {
      "cell_type": "markdown",
      "source": [
        "# 3) Process\n",
        "---\n"
      ],
      "metadata": {
        "id": "DXu5UwSU2to8"
      }
    },
    {
      "cell_type": "markdown",
      "source": [
        "##  Collect data"
      ],
      "metadata": {
        "id": "lYI-EIgKFouN"
      }
    },
    {
      "cell_type": "code",
      "execution_count": 1,
      "metadata": {
        "colab": {
          "base_uri": "https://localhost:8080/",
          "height": 206
        },
        "id": "92b9NGMDv7rV",
        "outputId": "860d22aa-783d-45a8-dcb9-2ad520169006"
      },
      "outputs": [
        {
          "output_type": "execute_result",
          "data": {
            "text/plain": [
              "   longitude  latitude  housing_median_age  total_rooms  total_bedrooms  \\\n",
              "0    -122.05     37.37                27.0       3885.0           661.0   \n",
              "1    -118.30     34.26                43.0       1510.0           310.0   \n",
              "2    -117.81     33.78                27.0       3589.0           507.0   \n",
              "3    -118.36     33.82                28.0         67.0            15.0   \n",
              "4    -119.67     36.33                19.0       1241.0           244.0   \n",
              "\n",
              "   population  households  median_income  median_house_value  \n",
              "0      1537.0       606.0         6.6085            344700.0  \n",
              "1       809.0       277.0         3.5990            176500.0  \n",
              "2      1484.0       495.0         5.7934            270500.0  \n",
              "3        49.0        11.0         6.1359            330000.0  \n",
              "4       850.0       237.0         2.9375             81700.0  "
            ],
            "text/html": [
              "\n",
              "  <div id=\"df-87cffb7a-4a57-4550-a9f0-05433834badd\">\n",
              "    <div class=\"colab-df-container\">\n",
              "      <div>\n",
              "<style scoped>\n",
              "    .dataframe tbody tr th:only-of-type {\n",
              "        vertical-align: middle;\n",
              "    }\n",
              "\n",
              "    .dataframe tbody tr th {\n",
              "        vertical-align: top;\n",
              "    }\n",
              "\n",
              "    .dataframe thead th {\n",
              "        text-align: right;\n",
              "    }\n",
              "</style>\n",
              "<table border=\"1\" class=\"dataframe\">\n",
              "  <thead>\n",
              "    <tr style=\"text-align: right;\">\n",
              "      <th></th>\n",
              "      <th>longitude</th>\n",
              "      <th>latitude</th>\n",
              "      <th>housing_median_age</th>\n",
              "      <th>total_rooms</th>\n",
              "      <th>total_bedrooms</th>\n",
              "      <th>population</th>\n",
              "      <th>households</th>\n",
              "      <th>median_income</th>\n",
              "      <th>median_house_value</th>\n",
              "    </tr>\n",
              "  </thead>\n",
              "  <tbody>\n",
              "    <tr>\n",
              "      <th>0</th>\n",
              "      <td>-122.05</td>\n",
              "      <td>37.37</td>\n",
              "      <td>27.0</td>\n",
              "      <td>3885.0</td>\n",
              "      <td>661.0</td>\n",
              "      <td>1537.0</td>\n",
              "      <td>606.0</td>\n",
              "      <td>6.6085</td>\n",
              "      <td>344700.0</td>\n",
              "    </tr>\n",
              "    <tr>\n",
              "      <th>1</th>\n",
              "      <td>-118.30</td>\n",
              "      <td>34.26</td>\n",
              "      <td>43.0</td>\n",
              "      <td>1510.0</td>\n",
              "      <td>310.0</td>\n",
              "      <td>809.0</td>\n",
              "      <td>277.0</td>\n",
              "      <td>3.5990</td>\n",
              "      <td>176500.0</td>\n",
              "    </tr>\n",
              "    <tr>\n",
              "      <th>2</th>\n",
              "      <td>-117.81</td>\n",
              "      <td>33.78</td>\n",
              "      <td>27.0</td>\n",
              "      <td>3589.0</td>\n",
              "      <td>507.0</td>\n",
              "      <td>1484.0</td>\n",
              "      <td>495.0</td>\n",
              "      <td>5.7934</td>\n",
              "      <td>270500.0</td>\n",
              "    </tr>\n",
              "    <tr>\n",
              "      <th>3</th>\n",
              "      <td>-118.36</td>\n",
              "      <td>33.82</td>\n",
              "      <td>28.0</td>\n",
              "      <td>67.0</td>\n",
              "      <td>15.0</td>\n",
              "      <td>49.0</td>\n",
              "      <td>11.0</td>\n",
              "      <td>6.1359</td>\n",
              "      <td>330000.0</td>\n",
              "    </tr>\n",
              "    <tr>\n",
              "      <th>4</th>\n",
              "      <td>-119.67</td>\n",
              "      <td>36.33</td>\n",
              "      <td>19.0</td>\n",
              "      <td>1241.0</td>\n",
              "      <td>244.0</td>\n",
              "      <td>850.0</td>\n",
              "      <td>237.0</td>\n",
              "      <td>2.9375</td>\n",
              "      <td>81700.0</td>\n",
              "    </tr>\n",
              "  </tbody>\n",
              "</table>\n",
              "</div>\n",
              "      <button class=\"colab-df-convert\" onclick=\"convertToInteractive('df-87cffb7a-4a57-4550-a9f0-05433834badd')\"\n",
              "              title=\"Convert this dataframe to an interactive table.\"\n",
              "              style=\"display:none;\">\n",
              "        \n",
              "  <svg xmlns=\"http://www.w3.org/2000/svg\" height=\"24px\"viewBox=\"0 0 24 24\"\n",
              "       width=\"24px\">\n",
              "    <path d=\"M0 0h24v24H0V0z\" fill=\"none\"/>\n",
              "    <path d=\"M18.56 5.44l.94 2.06.94-2.06 2.06-.94-2.06-.94-.94-2.06-.94 2.06-2.06.94zm-11 1L8.5 8.5l.94-2.06 2.06-.94-2.06-.94L8.5 2.5l-.94 2.06-2.06.94zm10 10l.94 2.06.94-2.06 2.06-.94-2.06-.94-.94-2.06-.94 2.06-2.06.94z\"/><path d=\"M17.41 7.96l-1.37-1.37c-.4-.4-.92-.59-1.43-.59-.52 0-1.04.2-1.43.59L10.3 9.45l-7.72 7.72c-.78.78-.78 2.05 0 2.83L4 21.41c.39.39.9.59 1.41.59.51 0 1.02-.2 1.41-.59l7.78-7.78 2.81-2.81c.8-.78.8-2.07 0-2.86zM5.41 20L4 18.59l7.72-7.72 1.47 1.35L5.41 20z\"/>\n",
              "  </svg>\n",
              "      </button>\n",
              "      \n",
              "  <style>\n",
              "    .colab-df-container {\n",
              "      display:flex;\n",
              "      flex-wrap:wrap;\n",
              "      gap: 12px;\n",
              "    }\n",
              "\n",
              "    .colab-df-convert {\n",
              "      background-color: #E8F0FE;\n",
              "      border: none;\n",
              "      border-radius: 50%;\n",
              "      cursor: pointer;\n",
              "      display: none;\n",
              "      fill: #1967D2;\n",
              "      height: 32px;\n",
              "      padding: 0 0 0 0;\n",
              "      width: 32px;\n",
              "    }\n",
              "\n",
              "    .colab-df-convert:hover {\n",
              "      background-color: #E2EBFA;\n",
              "      box-shadow: 0px 1px 2px rgba(60, 64, 67, 0.3), 0px 1px 3px 1px rgba(60, 64, 67, 0.15);\n",
              "      fill: #174EA6;\n",
              "    }\n",
              "\n",
              "    [theme=dark] .colab-df-convert {\n",
              "      background-color: #3B4455;\n",
              "      fill: #D2E3FC;\n",
              "    }\n",
              "\n",
              "    [theme=dark] .colab-df-convert:hover {\n",
              "      background-color: #434B5C;\n",
              "      box-shadow: 0px 1px 3px 1px rgba(0, 0, 0, 0.15);\n",
              "      filter: drop-shadow(0px 1px 2px rgba(0, 0, 0, 0.3));\n",
              "      fill: #FFFFFF;\n",
              "    }\n",
              "  </style>\n",
              "\n",
              "      <script>\n",
              "        const buttonEl =\n",
              "          document.querySelector('#df-87cffb7a-4a57-4550-a9f0-05433834badd button.colab-df-convert');\n",
              "        buttonEl.style.display =\n",
              "          google.colab.kernel.accessAllowed ? 'block' : 'none';\n",
              "\n",
              "        async function convertToInteractive(key) {\n",
              "          const element = document.querySelector('#df-87cffb7a-4a57-4550-a9f0-05433834badd');\n",
              "          const dataTable =\n",
              "            await google.colab.kernel.invokeFunction('convertToInteractive',\n",
              "                                                     [key], {});\n",
              "          if (!dataTable) return;\n",
              "\n",
              "          const docLinkHtml = 'Like what you see? Visit the ' +\n",
              "            '<a target=\"_blank\" href=https://colab.research.google.com/notebooks/data_table.ipynb>data table notebook</a>'\n",
              "            + ' to learn more about interactive tables.';\n",
              "          element.innerHTML = '';\n",
              "          dataTable['output_type'] = 'display_data';\n",
              "          await google.colab.output.renderOutput(dataTable, element);\n",
              "          const docLink = document.createElement('div');\n",
              "          docLink.innerHTML = docLinkHtml;\n",
              "          element.appendChild(docLink);\n",
              "        }\n",
              "      </script>\n",
              "    </div>\n",
              "  </div>\n",
              "  "
            ]
          },
          "metadata": {},
          "execution_count": 1
        }
      ],
      "source": [
        "# the data is already pre-split into train and test so let's begin with importing the train data\n",
        "train_df = pd.read_csv(\"https://raw.githubusercontent.com/Kirlewn/Machine-Learning-Projects/main/Data/california_housing_data/california_housing_train.csv\")\n",
        "\n",
        "train_df.head()"
      ]
    },
    {
      "cell_type": "code",
      "source": [
        "# let's also get the test \n",
        "test_df = pd.read_csv(\"https://raw.githubusercontent.com/Kirlewn/Machine-Learning-Projects/main/Data/california_housing_data/california_housing_test.csv\")\n",
        "\n",
        "test_df.head()"
      ],
      "metadata": {
        "id": "UkqlZzZqFWrU"
      },
      "execution_count": null,
      "outputs": []
    },
    {
      "cell_type": "markdown",
      "source": [
        "## Data Exploration\n",
        "Determine if there are any unusuable or strange data. \n",
        "This includes outliers, missing values, mismatched data types (an column with ints having a string input), etc. "
      ],
      "metadata": {
        "id": "D_dj2AIS2x-D"
      }
    },
    {
      "cell_type": "code",
      "source": [],
      "metadata": {
        "id": "xCCFFH0E0qcw"
      },
      "execution_count": null,
      "outputs": []
    },
    {
      "cell_type": "markdown",
      "source": [
        "## Preprocess\n",
        "\n",
        "Processed the data by cleaning it to make sure it was complete, correct, relevant, and free of errors and outliers."
      ],
      "metadata": {
        "id": "9Gdf_EnK21jb"
      }
    },
    {
      "cell_type": "code",
      "source": [],
      "metadata": {
        "id": "BKmUuY8b210g"
      },
      "execution_count": null,
      "outputs": []
    },
    {
      "cell_type": "markdown",
      "source": [
        "# 4) Analyze\n",
        "---\n",
        "\n",
        "Experiment with different models and hyperparameters to meet criterias of success. \n",
        "\n",
        "Outlier Experiments\n",
        "\n",
        "Model Experiments\n",
        "\n",
        "\n",
        "\n",
        "Analyze data"
      ],
      "metadata": {
        "id": "8k47DStF26hD"
      }
    },
    {
      "cell_type": "code",
      "source": [],
      "metadata": {
        "id": "xgFxClfi29ho"
      },
      "execution_count": null,
      "outputs": []
    }
  ]
}