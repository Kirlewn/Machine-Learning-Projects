{
  "nbformat": 4,
  "nbformat_minor": 0,
  "metadata": {
    "colab": {
      "provenance": []
    },
    "kernelspec": {
      "name": "python3",
      "display_name": "Python 3"
    },
    "language_info": {
      "name": "python"
    }
  },
  "cells": [
    {
      "cell_type": "markdown",
      "source": [
        "# Purpose"
      ],
      "metadata": {
        "id": "JbsaWT15B1yZ"
      }
    },
    {
      "cell_type": "markdown",
      "source": [
        "## Import data\n",
        " \n",
        " The dataset that we will be using is the red wine quality dataset from kaggle: \n",
        " \n",
        " https://www.kaggle.com/datasets/uciml/red-wine-quality-cortez-et-al-2009 "
      ],
      "metadata": {
        "id": "12GsUQ6zB4fJ"
      }
    },
    {
      "cell_type": "code",
      "execution_count": null,
      "metadata": {
        "id": "97YPqlYP9cNn"
      },
      "outputs": [],
      "source": []
    }
  ]
}